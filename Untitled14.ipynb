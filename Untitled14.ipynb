{
 "cells": [
  {
   "cell_type": "code",
   "execution_count": 11,
   "id": "f9bd1c0c-09c4-42e6-b1a0-1a27200dfd90",
   "metadata": {},
   "outputs": [
    {
     "name": "stderr",
     "output_type": "stream",
     "text": [
      "C:\\Users\\nalaj\\AppData\\Local\\Temp\\ipykernel_26924\\1700487986.py:22: FutureWarning: A value is trying to be set on a copy of a DataFrame or Series through chained assignment using an inplace method.\n",
      "The behavior will change in pandas 3.0. This inplace method will never work because the intermediate object on which we are setting values always behaves as a copy.\n",
      "\n",
      "For example, when doing 'df[col].method(value, inplace=True)', try using 'df.method({col: value}, inplace=True)' or df[col] = df[col].method(value) instead, to perform the operation inplace on the original object.\n",
      "\n",
      "\n",
      "  data['TotalCharges'].fillna(data['TotalCharges'].mean(), inplace=True)\n"
     ]
    },
    {
     "name": "stdout",
     "output_type": "stream",
     "text": [
      "Fitting 3 folds for each of 10 candidates, totalling 30 fits\n",
      "[CV] END ...............................C=0.01, solver=lbfgs; total time=   0.0s\n",
      "[CV] END ...............................C=0.01, solver=lbfgs; total time=   0.0s\n",
      "[CV] END ...............................C=0.01, solver=lbfgs; total time=   0.0s\n",
      "[CV] END ...........................C=0.01, solver=liblinear; total time=   0.0s\n",
      "[CV] END ...........................C=0.01, solver=liblinear; total time=   0.0s\n",
      "[CV] END ...........................C=0.01, solver=liblinear; total time=   0.0s\n",
      "[CV] END ................................C=0.1, solver=lbfgs; total time=   0.0s\n",
      "[CV] END ................................C=0.1, solver=lbfgs; total time=   0.0s\n",
      "[CV] END ................................C=0.1, solver=lbfgs; total time=   0.0s\n",
      "[CV] END ............................C=0.1, solver=liblinear; total time=   0.0s\n",
      "[CV] END ............................C=0.1, solver=liblinear; total time=   0.0s\n",
      "[CV] END ............................C=0.1, solver=liblinear; total time=   0.0s\n",
      "[CV] END ..................................C=1, solver=lbfgs; total time=   0.0s\n",
      "[CV] END ..................................C=1, solver=lbfgs; total time=   0.0s\n",
      "[CV] END ..................................C=1, solver=lbfgs; total time=   0.0s\n",
      "[CV] END ..............................C=1, solver=liblinear; total time=   0.0s\n",
      "[CV] END ..............................C=1, solver=liblinear; total time=   0.0s\n",
      "[CV] END ..............................C=1, solver=liblinear; total time=   0.0s\n",
      "[CV] END .................................C=10, solver=lbfgs; total time=   0.0s\n",
      "[CV] END .................................C=10, solver=lbfgs; total time=   0.0s\n",
      "[CV] END .................................C=10, solver=lbfgs; total time=   0.0s\n",
      "[CV] END .............................C=10, solver=liblinear; total time=   0.0s\n",
      "[CV] END .............................C=10, solver=liblinear; total time=   0.0s\n",
      "[CV] END .............................C=10, solver=liblinear; total time=   0.0s\n",
      "[CV] END ................................C=100, solver=lbfgs; total time=   0.0s\n",
      "[CV] END ................................C=100, solver=lbfgs; total time=   0.0s\n",
      "[CV] END ................................C=100, solver=lbfgs; total time=   0.0s\n",
      "[CV] END ............................C=100, solver=liblinear; total time=   0.0s\n",
      "[CV] END ............................C=100, solver=liblinear; total time=   0.0s\n",
      "[CV] END ............................C=100, solver=liblinear; total time=   0.0s\n",
      "Best Parameters: {'C': 0.1, 'solver': 'lbfgs'}\n",
      "Accuracy: 0.8162\n",
      "Confusion Matrix:\n",
      "[[934 102]\n",
      " [157 216]]\n",
      "Classification Report:\n",
      "              precision    recall  f1-score   support\n",
      "\n",
      "           0       0.86      0.90      0.88      1036\n",
      "           1       0.68      0.58      0.63       373\n",
      "\n",
      "    accuracy                           0.82      1409\n",
      "   macro avg       0.77      0.74      0.75      1409\n",
      "weighted avg       0.81      0.82      0.81      1409\n",
      "\n"
     ]
    },
    {
     "data": {
      "image/png": "[encoded data removed]",
      "text/plain": [
       "<Figure size 800x600 with 2 Axes>"
      ]
     },
     "metadata": {},
     "output_type": "display_data"
    }
   ],
   "source": [
    "# Step 1: Import Libraries\n",
    "import pandas as pd\n",
    "import numpy as np\n",
    "import matplotlib.pyplot as plt\n",
    "import seaborn as sns\n",
    "from sklearn.model_selection import train_test_split, GridSearchCV\n",
    "from sklearn.preprocessing import LabelEncoder, StandardScaler\n",
    "from sklearn.linear_model import LogisticRegression\n",
    "from sklearn.metrics import classification_report, confusion_matrix, accuracy_score\n",
    "\n",
    "# Step 2: Load the dataset\n",
    "file_path = 'WA_Fn-UseC_-Telco-Customer-Churn (1).csv'  # Update this path if necessary\n",
    "data = pd.read_csv(file_path)\n",
    "\n",
    "# Step 3: Clean column names (strip spaces from column names)\n",
    "data.columns = data.columns.str.strip()\n",
    "\n",
    "# Step 4: Data Preprocessing\n",
    "\n",
    "# Convert 'TotalCharges' to numeric, and handle errors by replacing them with NaN, then fill NaNs\n",
    "data['TotalCharges'] = pd.to_numeric(data['TotalCharges'], errors='coerce')\n",
    "data['TotalCharges'].fillna(data['TotalCharges'].mean(), inplace=True)\n",
    "\n",
    "# Drop the 'customerID' column, which is not relevant for the model\n",
    "data.drop('customerID', axis=1, inplace=True)\n",
    "\n",
    "# Encode categorical variables\n",
    "label_encoder = LabelEncoder()\n",
    "for column in data.select_dtypes(include=['object']).columns:\n",
    "    data[column] = label_encoder.fit_transform(data[column])\n",
    "\n",
    "# Feature-target split\n",
    "X = data.drop('Churn', axis=1)\n",
    "y = data['Churn']\n",
    "\n",
    "# Step 5: Split the data into training and testing sets\n",
    "X_train, X_test, y_train, y_test = train_test_split(X, y, test_size=0.2, random_state=42)\n",
    "\n",
    "# Step 6: Feature Scaling\n",
    "scaler = StandardScaler()\n",
    "X_train = scaler.fit_transform(X_train)\n",
    "X_test = scaler.transform(X_test)\n",
    "\n",
    "# Step 7: Train a Logistic Regression model\n",
    "log_reg = LogisticRegression(max_iter=1000, random_state=42)\n",
    "\n",
    "# Hyperparameter tuning using GridSearchCV\n",
    "param_grid = {\n",
    "    'C': [0.01, 0.1, 1, 10, 100],\n",
    "    'solver': ['lbfgs', 'liblinear']\n",
    "}\n",
    "\n",
    "grid_search = GridSearchCV(estimator=log_reg, param_grid=param_grid, cv=3, scoring='accuracy', verbose=2)\n",
    "grid_search.fit(X_train, y_train)\n",
    "\n",
    "# Best parameters from GridSearchCV\n",
    "print(\"Best Parameters:\", grid_search.best_params_)\n",
    "\n",
    "# Step 8: Make Predictions\n",
    "best_log_reg = grid_search.best_estimator_\n",
    "y_pred = best_log_reg.predict(X_test)\n",
    "\n",
    "# Step 9: Evaluate the Model\n",
    "accuracy = accuracy_score(y_test, y_pred)\n",
    "print(f\"Accuracy: {accuracy:.4f}\")\n",
    "\n",
    "print(\"Confusion Matrix:\")\n",
    "print(confusion_matrix(y_test, y_pred))\n",
    "\n",
    "print(\"Classification Report:\")\n",
    "print(classification_report(y_test, y_pred))\n",
    "\n",
    "# Step 10: Plot the confusion matrix\n",
    "plt.figure(figsize=(8,6))\n",
    "sns.heatmap(confusion_matrix(y_test, y_pred), annot=True, fmt='d', cmap='Blues')\n",
    "plt.title('Confusion Matrix')\n",
    "plt.ylabel('Actual')\n",
    "plt.xlabel('Predicted')\n",
    "plt.show()\n"
   ]
  },
  {
   "cell_type": "code",
   "execution_count": 13,
   "id": "19842e90-06a5-4f8f-8dcf-bf882c73d24d",
   "metadata": {},
   "outputs": [
    {
     "name": "stdout",
     "output_type": "stream",
     "text": [
      "Accuracy: 81.62%\n"
     ]
    }
   ],
   "source": [
    "# Step 9: Evaluate the Model\n",
    "accuracy = accuracy_score(y_test, y_pred)\n",
    "accuracy_percentage = accuracy * 100\n",
    "print(f\"Accuracy: {accuracy_percentage:.2f}%\")\n"
   ]
  },
  {
   "cell_type": "code",
   "execution_count": null,
   "id": "c80146d9-b620-4189-8fab-cc6a3c4268fe",
   "metadata": {},
   "outputs": [],
   "source": []
  }
 ],
 "metadata": {
  "kernelspec": {
   "display_name": "Python 3 (ipykernel)",
   "language": "python",
   "name": "python3"
  },
  "language_info": {
   "codemirror_mode": {
    "name": "ipython",
    "version": 3
   },
   "file_extension": ".py",
   "mimetype": "text/x-python",
   "name": "python",
   "nbconvert_exporter": "python",
   "pygments_lexer": "ipython3",
   "version": "3.11.4"
  }
 },
 "nbformat": 4,
 "nbformat_minor": 5
}
