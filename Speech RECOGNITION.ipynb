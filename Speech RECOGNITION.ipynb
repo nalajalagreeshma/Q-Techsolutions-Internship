{
 "cells": [
  {
   "cell_type": "code",
   "execution_count": 1,
   "id": "113d0869-2584-4d93-9291-0dde73be54e7",
   "metadata": {},
   "outputs": [
    {
     "name": "stderr",
     "output_type": "stream",
     "text": [
      "'sudo' is not recognized as an internal or external command,\n",
      "operable program or batch file.\n"
     ]
    },
    {
     "name": "stdout",
     "output_type": "stream",
     "text": [
      "Requirement already satisfied: pyaudio in c:\\users\\nalaj\\appdata\\local\\programs\\python\\python311\\lib\\site-packages (0.2.14)\n",
      "Requirement already satisfied: SpeechRecognition in c:\\users\\nalaj\\appdata\\local\\programs\\python\\python311\\lib\\site-packages (3.10.4)\n",
      "Requirement already satisfied: requests>=2.26.0 in c:\\users\\nalaj\\appdata\\local\\programs\\python\\python311\\lib\\site-packages (from SpeechRecognition) (2.31.0)\n",
      "Requirement already satisfied: typing-extensions in c:\\users\\nalaj\\appdata\\local\\programs\\python\\python311\\lib\\site-packages (from SpeechRecognition) (4.10.0)\n",
      "Requirement already satisfied: charset-normalizer<4,>=2 in c:\\users\\nalaj\\appdata\\local\\programs\\python\\python311\\lib\\site-packages (from requests>=2.26.0->SpeechRecognition) (3.2.0)\n",
      "Requirement already satisfied: idna<4,>=2.5 in c:\\users\\nalaj\\appdata\\local\\programs\\python\\python311\\lib\\site-packages (from requests>=2.26.0->SpeechRecognition) (3.4)\n",
      "Requirement already satisfied: urllib3<3,>=1.21.1 in c:\\users\\nalaj\\appdata\\local\\programs\\python\\python311\\lib\\site-packages (from requests>=2.26.0->SpeechRecognition) (2.0.4)\n",
      "Requirement already satisfied: certifi>=2017.4.17 in c:\\users\\nalaj\\appdata\\local\\programs\\python\\python311\\lib\\site-packages (from requests>=2.26.0->SpeechRecognition) (2023.7.22)\n",
      "Requirement already satisfied: pyttsx3 in c:\\users\\nalaj\\appdata\\local\\programs\\python\\python311\\lib\\site-packages (2.97)\n",
      "Requirement already satisfied: comtypes in c:\\users\\nalaj\\appdata\\local\\programs\\python\\python311\\lib\\site-packages (from pyttsx3) (1.4.7)\n",
      "Requirement already satisfied: pypiwin32 in c:\\users\\nalaj\\appdata\\local\\programs\\python\\python311\\lib\\site-packages (from pyttsx3) (223)\n",
      "Requirement already satisfied: pywin32 in c:\\users\\nalaj\\appdata\\roaming\\python\\python311\\site-packages (from pyttsx3) (306)\n"
     ]
    }
   ],
   "source": [
    "!sudo apt-get install portaudio19-dev  # For Linux-based systems\n",
    "!python -m pip install pyaudio\n",
    "!pip install SpeechRecognition\n",
    "!pip install pyttsx3\n"
   ]
  },
  {
   "cell_type": "code",
   "execution_count": 3,
   "id": "6073e820-7ecc-4ccc-8bc4-e27beb81e50d",
   "metadata": {},
   "outputs": [
    {
     "name": "stdout",
     "output_type": "stream",
     "text": [
      "Adjusting for ambient noise... Please wait.\n",
      "Please say something...\n",
      "Did you say: hi my name is greeshma i am doing an internship in q tech solutions\n",
      "Accuracy: 83.33%\n"
     ]
    }
   ],
   "source": [
    "import speech_recognition as sr\n",
    "import pyttsx3\n",
    "\n",
    "# Initialize the recognizer\n",
    "r = sr.Recognizer()\n",
    "\n",
    "# Function to convert text to speech\n",
    "def SpeakText(command):\n",
    "    # Initialize the engine\n",
    "    engine = pyttsx3.init()\n",
    "    engine.say(command)\n",
    "    engine.runAndWait()\n",
    "\n",
    "# Recording function for Jupyter\n",
    "def record_and_transcribe():\n",
    "    try:\n",
    "        with sr.Microphone() as source2:\n",
    "            # Adjust the recognizer sensitivity to ambient noise\n",
    "            print(\"Adjusting for ambient noise... Please wait.\")\n",
    "            r.adjust_for_ambient_noise(source2, duration=0.5)\n",
    "\n",
    "            # Prompt the user to speak\n",
    "            print(\"Please say something...\")\n",
    "            audio2 = r.listen(source2)\n",
    "\n",
    "            # Use Google Web Speech API to recognize audio\n",
    "            MyText = r.recognize_google(audio2)\n",
    "            MyText = MyText.lower()\n",
    "\n",
    "            print(f\"Did you say: {MyText}\")\n",
    "            SpeakText(MyText)\n",
    "            \n",
    "    except sr.RequestError as e:\n",
    "        print(f\"Could not request results; {e}\")\n",
    "    except sr.UnknownValueError:\n",
    "        print(\"Sorry, I did not understand that.\")\n",
    "\n",
    "# Call the function in a Jupyter cell to start the process\n",
    "record_and_transcribe()\n",
    "from jiwer import wer\n",
    "\n",
    "# Example spoken text (ground truth)\n",
    "spoken_text = \"this is a speech recognition test\"\n",
    "\n",
    "# Example recognized text from the speech recognizer\n",
    "recognized_text = \"this is speech recognition test\"\n",
    "\n",
    "# Calculate the Word Error Rate (WER)\n",
    "error_rate = wer(spoken_text, recognized_text)\n",
    "\n",
    "# Calculate accuracy\n",
    "accuracy = (1 - error_rate) * 100\n",
    "print(f\"Accuracy: {accuracy:.2f}%\")\n"
   ]
  },
  {
   "cell_type": "code",
   "execution_count": null,
   "id": "fd48a47a-ca9f-4fe1-93b1-c91c69d67d8d",
   "metadata": {},
   "outputs": [],
   "source": []
  }
 ],
 "metadata": {
  "kernelspec": {
   "display_name": "Python 3 (ipykernel)",
   "language": "python",
   "name": "python3"
  },
  "language_info": {
   "codemirror_mode": {
    "name": "ipython",
    "version": 3
   },
   "file_extension": ".py",
   "mimetype": "text/x-python",
   "name": "python",
   "nbconvert_exporter": "python",
   "pygments_lexer": "ipython3",
   "version": "3.11.4"
  }
 },
 "nbformat": 4,
 "nbformat_minor": 5
}
